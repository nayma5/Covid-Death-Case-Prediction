{
 "cells": [
  {
   "cell_type": "code",
   "execution_count": 31,
   "id": "2f5424bc",
   "metadata": {},
   "outputs": [],
   "source": [
    "import pandas as pd\n",
    "import numpy as np\n",
    "import sklearn\n",
    "import matplotlib.pyplot as plt\n",
    "from sklearn.model_selection import train_test_split\n",
    "\n",
    "from sklearn.ensemble import RandomForestClassifier\n",
    "from sklearn import preprocessing\n"
   ]
  },
  {
   "cell_type": "code",
   "execution_count": 4,
   "id": "71d73965",
   "metadata": {},
   "outputs": [],
   "source": [
    "covidFirstDose = pd.read_csv(\"covid_first_dose.csv\")\n",
    "covidSecondDose = pd.read_csv(\"covid_second_dose.csv\")\n",
    "covidData = pd.read_csv(\"covid_dataset.csv\")\n",
    "\n"
   ]
  },
  {
   "cell_type": "code",
   "execution_count": 5,
   "id": "4b046505",
   "metadata": {},
   "outputs": [],
   "source": [
    "x = covidFirstDose[['Day', 'Number of Vaccinations (First Dose)']]\n",
    "m = covidSecondDose[['Day', 'Number of Vaccinations (Second Dose)']]\n",
    "c = covidData[['Day', 'Lab Test' , 'Confirmed case', 'Death Case' ]]\n",
    "\n",
    "\n"
   ]
  },
  {
   "cell_type": "code",
   "execution_count": 6,
   "id": "cb150d6c",
   "metadata": {},
   "outputs": [],
   "source": [
    "a = x.merge(m, on='Day', how='inner')\n",
    "\n",
    "\n"
   ]
  },
  {
   "cell_type": "code",
   "execution_count": 7,
   "id": "600a17f2",
   "metadata": {},
   "outputs": [
    {
     "data": {
      "text/html": [
       "<div>\n",
       "<style scoped>\n",
       "    .dataframe tbody tr th:only-of-type {\n",
       "        vertical-align: middle;\n",
       "    }\n",
       "\n",
       "    .dataframe tbody tr th {\n",
       "        vertical-align: top;\n",
       "    }\n",
       "\n",
       "    .dataframe thead th {\n",
       "        text-align: right;\n",
       "    }\n",
       "</style>\n",
       "<table border=\"1\" class=\"dataframe\">\n",
       "  <thead>\n",
       "    <tr style=\"text-align: right;\">\n",
       "      <th></th>\n",
       "      <th>Day</th>\n",
       "      <th>Number of Vaccinations (First Dose)</th>\n",
       "      <th>Number of Vaccinations (Second Dose)</th>\n",
       "    </tr>\n",
       "  </thead>\n",
       "  <tbody>\n",
       "    <tr>\n",
       "      <th>0</th>\n",
       "      <td>2021-04-08</td>\n",
       "      <td>14804</td>\n",
       "      <td>81323</td>\n",
       "    </tr>\n",
       "    <tr>\n",
       "      <th>1</th>\n",
       "      <td>2021-04-10</td>\n",
       "      <td>19943</td>\n",
       "      <td>136703</td>\n",
       "    </tr>\n",
       "    <tr>\n",
       "      <th>2</th>\n",
       "      <td>2021-04-11</td>\n",
       "      <td>23657</td>\n",
       "      <td>165691</td>\n",
       "    </tr>\n",
       "    <tr>\n",
       "      <th>3</th>\n",
       "      <td>2021-04-12</td>\n",
       "      <td>22456</td>\n",
       "      <td>138879</td>\n",
       "    </tr>\n",
       "    <tr>\n",
       "      <th>4</th>\n",
       "      <td>2021-04-13</td>\n",
       "      <td>26750</td>\n",
       "      <td>210579</td>\n",
       "    </tr>\n",
       "    <tr>\n",
       "      <th>...</th>\n",
       "      <td>...</td>\n",
       "      <td>...</td>\n",
       "      <td>...</td>\n",
       "    </tr>\n",
       "    <tr>\n",
       "      <th>183</th>\n",
       "      <td>2021-12-13</td>\n",
       "      <td>325250</td>\n",
       "      <td>355796</td>\n",
       "    </tr>\n",
       "    <tr>\n",
       "      <th>184</th>\n",
       "      <td>2021-12-14</td>\n",
       "      <td>338574</td>\n",
       "      <td>570312</td>\n",
       "    </tr>\n",
       "    <tr>\n",
       "      <th>185</th>\n",
       "      <td>2021-12-15</td>\n",
       "      <td>367004</td>\n",
       "      <td>565635</td>\n",
       "    </tr>\n",
       "    <tr>\n",
       "      <th>186</th>\n",
       "      <td>2021-12-18</td>\n",
       "      <td>363539</td>\n",
       "      <td>927256</td>\n",
       "    </tr>\n",
       "    <tr>\n",
       "      <th>187</th>\n",
       "      <td>2021-12-19</td>\n",
       "      <td>315552</td>\n",
       "      <td>89049</td>\n",
       "    </tr>\n",
       "  </tbody>\n",
       "</table>\n",
       "<p>188 rows × 3 columns</p>\n",
       "</div>"
      ],
      "text/plain": [
       "            Day  Number of Vaccinations (First Dose)  \\\n",
       "0    2021-04-08                                14804   \n",
       "1    2021-04-10                                19943   \n",
       "2    2021-04-11                                23657   \n",
       "3    2021-04-12                                22456   \n",
       "4    2021-04-13                                26750   \n",
       "..          ...                                  ...   \n",
       "183  2021-12-13                               325250   \n",
       "184  2021-12-14                               338574   \n",
       "185  2021-12-15                               367004   \n",
       "186  2021-12-18                               363539   \n",
       "187  2021-12-19                               315552   \n",
       "\n",
       "     Number of Vaccinations (Second Dose)  \n",
       "0                                   81323  \n",
       "1                                  136703  \n",
       "2                                  165691  \n",
       "3                                  138879  \n",
       "4                                  210579  \n",
       "..                                    ...  \n",
       "183                                355796  \n",
       "184                                570312  \n",
       "185                                565635  \n",
       "186                                927256  \n",
       "187                                 89049  \n",
       "\n",
       "[188 rows x 3 columns]"
      ]
     },
     "execution_count": 7,
     "metadata": {},
     "output_type": "execute_result"
    }
   ],
   "source": [
    "a"
   ]
  },
  {
   "cell_type": "code",
   "execution_count": 8,
   "id": "8095e59d",
   "metadata": {},
   "outputs": [],
   "source": [
    "z= pd.merge(a, c, on='Day', how='left')"
   ]
  },
  {
   "cell_type": "code",
   "execution_count": 9,
   "id": "52ec44f4",
   "metadata": {},
   "outputs": [
    {
     "data": {
      "text/html": [
       "<div>\n",
       "<style scoped>\n",
       "    .dataframe tbody tr th:only-of-type {\n",
       "        vertical-align: middle;\n",
       "    }\n",
       "\n",
       "    .dataframe tbody tr th {\n",
       "        vertical-align: top;\n",
       "    }\n",
       "\n",
       "    .dataframe thead th {\n",
       "        text-align: right;\n",
       "    }\n",
       "</style>\n",
       "<table border=\"1\" class=\"dataframe\">\n",
       "  <thead>\n",
       "    <tr style=\"text-align: right;\">\n",
       "      <th></th>\n",
       "      <th>Day</th>\n",
       "      <th>Number of Vaccinations (First Dose)</th>\n",
       "      <th>Number of Vaccinations (Second Dose)</th>\n",
       "      <th>Lab Test</th>\n",
       "      <th>Confirmed case</th>\n",
       "      <th>Death Case</th>\n",
       "    </tr>\n",
       "  </thead>\n",
       "  <tbody>\n",
       "    <tr>\n",
       "      <th>0</th>\n",
       "      <td>2021-04-08</td>\n",
       "      <td>14804</td>\n",
       "      <td>81323</td>\n",
       "      <td>33193</td>\n",
       "      <td>6854</td>\n",
       "      <td>74</td>\n",
       "    </tr>\n",
       "    <tr>\n",
       "      <th>1</th>\n",
       "      <td>2021-04-10</td>\n",
       "      <td>19943</td>\n",
       "      <td>136703</td>\n",
       "      <td>26077</td>\n",
       "      <td>5343</td>\n",
       "      <td>77</td>\n",
       "    </tr>\n",
       "    <tr>\n",
       "      <th>2</th>\n",
       "      <td>2021-04-11</td>\n",
       "      <td>23657</td>\n",
       "      <td>165691</td>\n",
       "      <td>29376</td>\n",
       "      <td>5819</td>\n",
       "      <td>78</td>\n",
       "    </tr>\n",
       "    <tr>\n",
       "      <th>3</th>\n",
       "      <td>2021-04-12</td>\n",
       "      <td>22456</td>\n",
       "      <td>138879</td>\n",
       "      <td>34968</td>\n",
       "      <td>7201</td>\n",
       "      <td>83</td>\n",
       "    </tr>\n",
       "    <tr>\n",
       "      <th>4</th>\n",
       "      <td>2021-04-13</td>\n",
       "      <td>26750</td>\n",
       "      <td>210579</td>\n",
       "      <td>32955</td>\n",
       "      <td>6028</td>\n",
       "      <td>69</td>\n",
       "    </tr>\n",
       "    <tr>\n",
       "      <th>...</th>\n",
       "      <td>...</td>\n",
       "      <td>...</td>\n",
       "      <td>...</td>\n",
       "      <td>...</td>\n",
       "      <td>...</td>\n",
       "      <td>...</td>\n",
       "    </tr>\n",
       "    <tr>\n",
       "      <th>183</th>\n",
       "      <td>2021-12-13</td>\n",
       "      <td>325250</td>\n",
       "      <td>355796</td>\n",
       "      <td>22037</td>\n",
       "      <td>385</td>\n",
       "      <td>3</td>\n",
       "    </tr>\n",
       "    <tr>\n",
       "      <th>184</th>\n",
       "      <td>2021-12-14</td>\n",
       "      <td>338574</td>\n",
       "      <td>570312</td>\n",
       "      <td>22870</td>\n",
       "      <td>295</td>\n",
       "      <td>3</td>\n",
       "    </tr>\n",
       "    <tr>\n",
       "      <th>185</th>\n",
       "      <td>2021-12-15</td>\n",
       "      <td>367004</td>\n",
       "      <td>565635</td>\n",
       "      <td>28153</td>\n",
       "      <td>297</td>\n",
       "      <td>4</td>\n",
       "    </tr>\n",
       "    <tr>\n",
       "      <th>186</th>\n",
       "      <td>2021-12-18</td>\n",
       "      <td>363539</td>\n",
       "      <td>927256</td>\n",
       "      <td>13991</td>\n",
       "      <td>122</td>\n",
       "      <td>4</td>\n",
       "    </tr>\n",
       "    <tr>\n",
       "      <th>187</th>\n",
       "      <td>2021-12-19</td>\n",
       "      <td>315552</td>\n",
       "      <td>89049</td>\n",
       "      <td>19332</td>\n",
       "      <td>211</td>\n",
       "      <td>1</td>\n",
       "    </tr>\n",
       "  </tbody>\n",
       "</table>\n",
       "<p>188 rows × 6 columns</p>\n",
       "</div>"
      ],
      "text/plain": [
       "            Day  Number of Vaccinations (First Dose)  \\\n",
       "0    2021-04-08                                14804   \n",
       "1    2021-04-10                                19943   \n",
       "2    2021-04-11                                23657   \n",
       "3    2021-04-12                                22456   \n",
       "4    2021-04-13                                26750   \n",
       "..          ...                                  ...   \n",
       "183  2021-12-13                               325250   \n",
       "184  2021-12-14                               338574   \n",
       "185  2021-12-15                               367004   \n",
       "186  2021-12-18                               363539   \n",
       "187  2021-12-19                               315552   \n",
       "\n",
       "     Number of Vaccinations (Second Dose)  Lab Test  Confirmed case  \\\n",
       "0                                   81323     33193            6854   \n",
       "1                                  136703     26077            5343   \n",
       "2                                  165691     29376            5819   \n",
       "3                                  138879     34968            7201   \n",
       "4                                  210579     32955            6028   \n",
       "..                                    ...       ...             ...   \n",
       "183                                355796     22037             385   \n",
       "184                                570312     22870             295   \n",
       "185                                565635     28153             297   \n",
       "186                                927256     13991             122   \n",
       "187                                 89049     19332             211   \n",
       "\n",
       "     Death Case  \n",
       "0            74  \n",
       "1            77  \n",
       "2            78  \n",
       "3            83  \n",
       "4            69  \n",
       "..          ...  \n",
       "183           3  \n",
       "184           3  \n",
       "185           4  \n",
       "186           4  \n",
       "187           1  \n",
       "\n",
       "[188 rows x 6 columns]"
      ]
     },
     "execution_count": 9,
     "metadata": {},
     "output_type": "execute_result"
    }
   ],
   "source": [
    "z"
   ]
  },
  {
   "cell_type": "code",
   "execution_count": 49,
   "id": "7c1d0fe2",
   "metadata": {},
   "outputs": [
    {
     "name": "stdout",
     "output_type": "stream",
     "text": [
      "     Day  Number of Vaccinations (First Dose)  \\\n",
      "0      0                                14804   \n",
      "1      1                                19943   \n",
      "2      2                                23657   \n",
      "3      3                                22456   \n",
      "4      4                                26750   \n",
      "..   ...                                  ...   \n",
      "153  153                              1049734   \n",
      "154  154                               985671   \n",
      "155  155                                 2530   \n",
      "156  156                               217057   \n",
      "157  157                               284511   \n",
      "\n",
      "     Number of Vaccinations (Second Dose)  Lab Test  Confirmed case  \\\n",
      "0                                   81323     33193            6854   \n",
      "1                                  136703     26077            5343   \n",
      "2                                  165691     29376            5819   \n",
      "3                                  138879     34968            7201   \n",
      "4                                  210579     32955            6028   \n",
      "..                                    ...       ...             ...   \n",
      "153                                296190     17987             235   \n",
      "154                                274912     19544             237   \n",
      "155                                   742     17231             221   \n",
      "156                                270573     13569             151   \n",
      "157                                338715     19517             223   \n",
      "\n",
      "     Death Case  \n",
      "0            74  \n",
      "1            77  \n",
      "2            78  \n",
      "3            83  \n",
      "4            69  \n",
      "..          ...  \n",
      "153           2  \n",
      "154           1  \n",
      "155           5  \n",
      "156           6  \n",
      "157           4  \n",
      "\n",
      "[158 rows x 6 columns]\n"
     ]
    }
   ],
   "source": [
    "label_encoder = preprocessing.LabelEncoder()\n",
    " \n",
    "z['Day']= label_encoder.fit_transform(z['Day']) \n",
    "print(z.head(158))"
   ]
  },
  {
   "cell_type": "code",
   "execution_count": 11,
   "id": "782ee87c",
   "metadata": {},
   "outputs": [
    {
     "data": {
      "text/plain": [
       "(188, 6)"
      ]
     },
     "execution_count": 11,
     "metadata": {},
     "output_type": "execute_result"
    }
   ],
   "source": [
    "z.shape"
   ]
  },
  {
   "cell_type": "code",
   "execution_count": 12,
   "id": "2a4ffaba",
   "metadata": {},
   "outputs": [
    {
     "data": {
      "text/plain": [
       "Index(['Day', 'Number of Vaccinations (First Dose)',\n",
       "       'Number of Vaccinations (Second Dose)', 'Lab Test', 'Confirmed case',\n",
       "       'Death Case'],\n",
       "      dtype='object')"
      ]
     },
     "execution_count": 12,
     "metadata": {},
     "output_type": "execute_result"
    }
   ],
   "source": [
    "z.columns"
   ]
  },
  {
   "cell_type": "code",
   "execution_count": 13,
   "id": "fb7df09d",
   "metadata": {},
   "outputs": [],
   "source": [
    "X = z.iloc[:, 0:5]\n",
    "y = z['Death Case']"
   ]
  },
  {
   "cell_type": "code",
   "execution_count": 16,
   "id": "a8198160",
   "metadata": {},
   "outputs": [
    {
     "data": {
      "text/plain": [
       "(188, 5)"
      ]
     },
     "execution_count": 16,
     "metadata": {},
     "output_type": "execute_result"
    }
   ],
   "source": [
    "X.shape\n"
   ]
  },
  {
   "cell_type": "code",
   "execution_count": 17,
   "id": "328635f6",
   "metadata": {},
   "outputs": [
    {
     "data": {
      "text/plain": [
       "(188,)"
      ]
     },
     "execution_count": 17,
     "metadata": {},
     "output_type": "execute_result"
    }
   ],
   "source": [
    "y.shape"
   ]
  },
  {
   "cell_type": "code",
   "execution_count": 68,
   "id": "12dcf62f",
   "metadata": {},
   "outputs": [
    {
     "data": {
      "text/plain": [
       "array([[      0,   14804,   81323,   33193,    6854],\n",
       "       [      1,   19943,  136703,   26077,    5343],\n",
       "       [      2,   23657,  165691,   29376,    5819],\n",
       "       [      3,   22456,  138879,   34968,    7201],\n",
       "       [      4,   26750,  210579,   32955,    6028],\n",
       "       [      5,   10572,  196976,   19959,    4192],\n",
       "       [      6,   12157,  221616,   16185,    3473],\n",
       "       [      7,   15048,  214842,   19404,    3698],\n",
       "       [      8,   15057,  140678,   24152,    4271],\n",
       "       [      9,   15938,  170902,   27056,    4559],\n",
       "       [     10,   16817,  137798,   28408,    4280],\n",
       "       [     11,   16784,  151988,   27429,    4014],\n",
       "       [     12,   20194,  187321,   20571,    2697],\n",
       "       [     13,   19520,  171570,   21922,    2922],\n",
       "       [     14,     891,  131357,   25786,    3306],\n",
       "       [     15,     325,  120861,   24237,    3031],\n",
       "       [     16,      30,  119071,   28206,    2955],\n",
       "       [     17,      10,  107539,   24928,    2341],\n",
       "       [     18,      53,  130547,   14158,    1359],\n",
       "       [     19,      10,   86928,   19431,    1739],\n",
       "       [     20,      38,   83540,   21984,    1914],\n",
       "       [     21,      54,  103800,   20284,    1742],\n",
       "       [     22,      43,  102915,   21585,    1822],\n",
       "       [     23,       2,   88107,   14703,    1285],\n",
       "       [     24,      44,   94655,   16915,    1386],\n",
       "       [     25,      10,   97337,   14184,    1230],\n",
       "       [     26,       2,   57630,   15296,    1140],\n",
       "       [     27,      59,   43304,   15205,    1354],\n",
       "       [     28,      30,   34853,   17683,    1441],\n",
       "       [     29,     501,   33655,   16624,    1675],\n",
       "       [     30,      14,   37287,   15915,    1292],\n",
       "       [     31,     738,   20938,   13184,    1043],\n",
       "       [     32,     903,   19459,   14277,    1444],\n",
       "       [     33,      20,    9180,   16972,    1687],\n",
       "       [     34,      30,    7363,   15613,    1676],\n",
       "       [     35,    4320,    2589,   16964,    3057],\n",
       "       [     36,    4064,    3371,   22231,    3641],\n",
       "       [     37,    6007,    3003,   24057,    4636],\n",
       "       [     38,    6015,    3185,   25028,    4846],\n",
       "       [     39,    5692,    2901,   28256,    5727],\n",
       "       [     40,    4720,    2733,   30391,    6058],\n",
       "       [     41,    6784,    2116,   19262,    4334],\n",
       "       [     42,    6990,    2105,   24400,    5268],\n",
       "       [     43,    4291,    1218,   35059,    8364],\n",
       "       [     44,    4837,    1615,   31982,    7666],\n",
       "       [     45,    4975,    2249,   35105,    8822],\n",
       "       [     46,    4120,     703,   32055,    8301],\n",
       "       [     47,    7949,    1051,   22687,    6214],\n",
       "       [     48,    8616,     743,   29879,    8661],\n",
       "       [     49,    9599,     893,   34002,    9964],\n",
       "       [     50,    9116,     581,   36631,   11525],\n",
       "       [     51,   10452,     651,   35639,   11162],\n",
       "       [     52,   22800,     723,   36850,   11651],\n",
       "       [     53,   44762,     356,   27884,    8772],\n",
       "       [     54,   50281,     324,   40015,   11874],\n",
       "       [     55,   69623,     355,   44067,   13768],\n",
       "       [     56,  138167,     293,   41755,   12198],\n",
       "       [     57,  178196,     212,   42490,   12383],\n",
       "       [     58,  196633,     665,   44941,   12236],\n",
       "       [     59,  182016,     708,   29214,    8489],\n",
       "       [     60,  195375,     967,   39806,   11578],\n",
       "       [     61,  180809,     733,   45012,   13321],\n",
       "       [     62,  159663,    1432,   20827,    6780],\n",
       "       [     63,  211375,    3194,   37587,   11291],\n",
       "       [     64,  217058,    4478,   50952,   15192],\n",
       "       [     65,  241251,    5355,   52478,   14925],\n",
       "       [     66,  251741,    6529,   53877,   16230],\n",
       "       [     67,  250928,    7157,   52282,   15271],\n",
       "       [     68,  284725,    9902,   30980,    9369],\n",
       "       [     69,  302069,   12281,   49529,   14844],\n",
       "       [     70,  290685,   16262,   53462,   15989],\n",
       "       [     71,  298588,   23855,   55284,   15776],\n",
       "       [     72,  312536,   24347,   49514,   13817],\n",
       "       [     73,  279844,   27386,   46995,   12744],\n",
       "       [     74, 3070268,   53798,   31714,    8136],\n",
       "       [     75,  596224,   98476,   42003,   10299],\n",
       "       [     76,  494721,  137220,   47207,   11463],\n",
       "       [     77,  318437,  169132,   47424,   11164],\n",
       "       [     78,  253715,  163772,   44430,   10420],\n",
       "       [     79,  288507,  158366,   45078,   10126],\n",
       "       [     80,  149914,  204034,   33330,    6885],\n",
       "       [     81,  174880,  265935,   33015,    6959],\n",
       "       [     82,  161491,  235916,   39278,    7535],\n",
       "       [     83,  179758,  199344,   41014,    7248],\n",
       "       [     84,  180965,  124862,   37226,    6566],\n",
       "       [     85,  227526,  141064,   23882,    3991],\n",
       "       [     86,  275209,  180007,   31689,    4804],\n",
       "       [     87,  287210,  180742,   36789,    5717],\n",
       "       [     88,  293857,  220102,   34708,    5249],\n",
       "       [     89,  299915,  225647,   33640,    4966],\n",
       "       [     90,  285908,  228253,   34111,    4698],\n",
       "       [     91,  242665,  209712,   25129,    3436],\n",
       "       [     92,  218051,  200240,   27921,    3948],\n",
       "       [     93,  200724,  205300,   28097,    3357],\n",
       "       [     94,  187150,  162910,   30294,    3062],\n",
       "       [     95,  199025,  151252,   33025,    3436],\n",
       "       [     96,  205090,  166678,   17750,    1743],\n",
       "       [     97,  259401,  207873,   25163,    2430],\n",
       "       [     98,  274833,  230818,   27595,    2710],\n",
       "       [     99,  226451, 2708469,   27233,    2639],\n",
       "       [    100,  300794,  853373,   27528,    2497],\n",
       "       [    101,  294255,  672859,   29541,    2588],\n",
       "       [    102,  230769,  347979,   18869,    1327],\n",
       "       [    103,  255014,  236482,   25074,    1871],\n",
       "       [    104,  217100,  164778,   25388,    1953],\n",
       "       [    105,  184893,  112063,   31724,    2074],\n",
       "       [    106,  235755,  142455,   28615,    1901],\n",
       "       [    107,  291685,  178278,   31149,    1862],\n",
       "       [    108,  297017,  204024,   19668,    1190],\n",
       "       [    109,  342960,  225015,   24623,    1383],\n",
       "       [    110,  332808,  205528,   27431,    1555],\n",
       "       [    111,  340551,  236723,   33327,    1562],\n",
       "       [    112,  345438,  255841,   28736,    1376],\n",
       "       [    113,  356955,  262718,   24820,    1144],\n",
       "       [    114,  327281,  252719,   17818,     818],\n",
       "       [    115,  381048,  278489,   22221,     980],\n",
       "       [    116,  302248,  187406,   27787,    1212],\n",
       "       [    117, 6625123,  133869,   29186,    1310],\n",
       "       [    118, 1186093,  148151,   28599,    1178],\n",
       "       [    119,  632897,  138362,   26569,     860],\n",
       "       [    120,  341578,  113495,   17283,     589],\n",
       "       [    121,  451363,  138064,   21246,     617],\n",
       "       [    122,  411464,  141533,   24928,     794],\n",
       "       [    123,  446088,  153811,   25499,     694],\n",
       "       [    124,  418131,  154550,   24376,     703],\n",
       "       [    125,  435305,  173003,   22321,     663],\n",
       "       [    126,  349528,  145180,   16925,     415],\n",
       "       [    127,  420194,  190021,   20355,     481],\n",
       "       [    128,  320207,  163401,   23193,     599],\n",
       "       [    129,  286419,  161439,   23155,     543],\n",
       "       [    130,  266544,  139193,   22153,     518],\n",
       "       [    131,  274201,  158679,   21568,     466],\n",
       "       [    132,  300023,  172727,   15580,     293],\n",
       "       [    133,  428016,  241538,   18097,     314],\n",
       "       [    134,  363618,  233270,   18812,     339],\n",
       "       [    135,  330760,  231514,   21308,     469],\n",
       "       [    136,  392214,  362317,   16088,     243],\n",
       "       [    137,  335106,  270039,   15042,     278],\n",
       "       [    138,  393181,  329401,   18485,     275],\n",
       "       [    139,  337988,  267755,   20773,     289],\n",
       "       [    140,  330868,  247274,   19184,     276],\n",
       "       [    141,  315190,  222950,   19951,     306],\n",
       "       [    142,  247662, 5444166,   19535,     294],\n",
       "       [    143,  266113, 1912637,   13240,     166],\n",
       "       [    144,  372331,  548771,   17226,     211],\n",
       "       [    145,  310415,  327098,   19734,     214],\n",
       "       [    146,  366337,  332992,   20031,     229],\n",
       "       [    147,  303942,  310747,   19523,     256],\n",
       "       [    148,  269414,  312691,   18690,     247],\n",
       "       [    149, 1346997,  349715,   13072,     154],\n",
       "       [    150,  916486,  417550,   15234,     178],\n",
       "       [    151, 1129320,  339877,   16812,     215],\n",
       "       [    152, 2593836,  341033,   17530,     206],\n",
       "       [    153, 1049734,  296190,   17987,     235],\n",
       "       [    154,  985671,  274912,   19544,     237],\n",
       "       [    155,    2530,     742,   17231,     221],\n",
       "       [    156,  217057,  270573,   13569,     151],\n",
       "       [    157,  284511,  338715,   19517,     223],\n",
       "       [    158,  253516,  262303,   17700,     234],\n",
       "       [    159,  499779,  329464,   20764,     213],\n",
       "       [    160,  470506,  260185,   19670,     266],\n",
       "       [    161,  607084,  286828,   18124,     253],\n",
       "       [    162,  715369,  268632,   19507,     244],\n",
       "       [    163,  476984,  310792,   17135,     199],\n",
       "       [    164,  514388,  250489,   18614,     264],\n",
       "       [    165, 1102993,  294210,   19568,     284],\n",
       "       [    166,  723227,  277973,   21002,     312],\n",
       "       [    167,  790247,  281447,   18888,     237],\n",
       "       [    168,  955657,  216578,   13462,     155],\n",
       "       [    169,  536223,  245770,   19811,     205],\n",
       "       [    170,  822722,  240524,   16891,     227],\n",
       "       [    171, 1496419,  283416,   19802,     273],\n",
       "       [    172,  998927,  305262,   18851,     282],\n",
       "       [    173, 1038056,  299495,   21057,     261],\n",
       "       [    174,    1899,    1899,   17387,     243],\n",
       "       [    175,  642635,  263673,   16428,     176],\n",
       "       [    176,  666819,  309062,   19132,     197],\n",
       "       [    177,  225731,  358964,   19237,     277],\n",
       "       [    178,  311518, 1161519,   20014,     291],\n",
       "       [    179,  348297, 1085963,   20549,     277],\n",
       "       [    180,  320380, 1312423,   21496,     262],\n",
       "       [    181,  227487,  709368,   15632,     177],\n",
       "       [    182,  291402,  486962,   21612,     329],\n",
       "       [    183,  325250,  355796,   22037,     385],\n",
       "       [    184,  338574,  570312,   22870,     295],\n",
       "       [    185,  367004,  565635,   28153,     297],\n",
       "       [    186,  363539,  927256,   13991,     122],\n",
       "       [    187,  315552,   89049,   19332,     211]], dtype=int64)"
      ]
     },
     "execution_count": 68,
     "metadata": {},
     "output_type": "execute_result"
    }
   ],
   "source": [
    "X"
   ]
  },
  {
   "cell_type": "code",
   "execution_count": 21,
   "id": "437a2a5c",
   "metadata": {},
   "outputs": [],
   "source": [
    "X_train, X_test, y_train, y_test = train_test_split(X, y, test_size=0.2, random_state=100)"
   ]
  },
  {
   "cell_type": "code",
   "execution_count": 25,
   "id": "1ed035cb",
   "metadata": {},
   "outputs": [
    {
     "data": {
      "text/plain": [
       "(150, 5)"
      ]
     },
     "execution_count": 25,
     "metadata": {},
     "output_type": "execute_result"
    }
   ],
   "source": [
    "X_train.shape"
   ]
  },
  {
   "cell_type": "code",
   "execution_count": 27,
   "id": "ed4932f4",
   "metadata": {},
   "outputs": [
    {
     "data": {
      "text/plain": [
       "(38, 5)"
      ]
     },
     "execution_count": 27,
     "metadata": {},
     "output_type": "execute_result"
    }
   ],
   "source": [
    "X_test.shape"
   ]
  },
  {
   "cell_type": "code",
   "execution_count": 22,
   "id": "87f41976",
   "metadata": {},
   "outputs": [],
   "source": [
    "from sklearn.ensemble import RandomForestRegressor"
   ]
  },
  {
   "cell_type": "code",
   "execution_count": 23,
   "id": "714f2623",
   "metadata": {},
   "outputs": [
    {
     "data": {
      "text/plain": [
       "RandomForestRegressor()"
      ]
     },
     "execution_count": 23,
     "metadata": {},
     "output_type": "execute_result"
    }
   ],
   "source": [
    "\n",
    "rf = RandomForestRegressor()\n",
    "rf.fit(X_train, y_train)"
   ]
  },
  {
   "cell_type": "code",
   "execution_count": 47,
   "id": "51968438",
   "metadata": {},
   "outputs": [
    {
     "data": {
      "text/plain": [
       "array([  5.27,   4.17,   6.66,   5.17, 123.75,  30.26,  95.56,  88.97,\n",
       "        61.7 ,  16.63, 177.69,   8.96,  27.09,   3.59, 222.14,   5.21,\n",
       "         2.74,  68.2 ,   2.6 , 168.11, 243.99, 102.28,  97.61, 118.32,\n",
       "         2.4 ,  19.04,  37.21,  36.72,  18.16,   3.4 , 243.22,  84.85,\n",
       "         3.19,  13.23,   3.17, 184.88, 185.01,   4.23])"
      ]
     },
     "execution_count": 47,
     "metadata": {},
     "output_type": "execute_result"
    }
   ],
   "source": [
    "y_pred=rf.predict(X_test)\n",
    "y_pred\n"
   ]
  },
  {
   "cell_type": "code",
   "execution_count": 29,
   "id": "f0092db7",
   "metadata": {},
   "outputs": [
    {
     "data": {
      "text/html": [
       "<div>\n",
       "<style scoped>\n",
       "    .dataframe tbody tr th:only-of-type {\n",
       "        vertical-align: middle;\n",
       "    }\n",
       "\n",
       "    .dataframe tbody tr th {\n",
       "        vertical-align: top;\n",
       "    }\n",
       "\n",
       "    .dataframe thead th {\n",
       "        text-align: right;\n",
       "    }\n",
       "</style>\n",
       "<table border=\"1\" class=\"dataframe\">\n",
       "  <thead>\n",
       "    <tr style=\"text-align: right;\">\n",
       "      <th></th>\n",
       "      <th>Day</th>\n",
       "      <th>Number of Vaccinations (First Dose)</th>\n",
       "      <th>Number of Vaccinations (Second Dose)</th>\n",
       "      <th>Lab Test</th>\n",
       "      <th>Confirmed case</th>\n",
       "    </tr>\n",
       "  </thead>\n",
       "  <tbody>\n",
       "    <tr>\n",
       "      <th>156</th>\n",
       "      <td>156</td>\n",
       "      <td>217057</td>\n",
       "      <td>270573</td>\n",
       "      <td>13569</td>\n",
       "      <td>151</td>\n",
       "    </tr>\n",
       "    <tr>\n",
       "      <th>157</th>\n",
       "      <td>157</td>\n",
       "      <td>284511</td>\n",
       "      <td>338715</td>\n",
       "      <td>19517</td>\n",
       "      <td>223</td>\n",
       "    </tr>\n",
       "    <tr>\n",
       "      <th>140</th>\n",
       "      <td>140</td>\n",
       "      <td>330868</td>\n",
       "      <td>247274</td>\n",
       "      <td>19184</td>\n",
       "      <td>276</td>\n",
       "    </tr>\n",
       "    <tr>\n",
       "      <th>145</th>\n",
       "      <td>145</td>\n",
       "      <td>310415</td>\n",
       "      <td>327098</td>\n",
       "      <td>19734</td>\n",
       "      <td>214</td>\n",
       "    </tr>\n",
       "    <tr>\n",
       "      <th>46</th>\n",
       "      <td>46</td>\n",
       "      <td>4120</td>\n",
       "      <td>703</td>\n",
       "      <td>32055</td>\n",
       "      <td>8301</td>\n",
       "    </tr>\n",
       "  </tbody>\n",
       "</table>\n",
       "</div>"
      ],
      "text/plain": [
       "     Day  Number of Vaccinations (First Dose)  \\\n",
       "156  156                               217057   \n",
       "157  157                               284511   \n",
       "140  140                               330868   \n",
       "145  145                               310415   \n",
       "46    46                                 4120   \n",
       "\n",
       "     Number of Vaccinations (Second Dose)  Lab Test  Confirmed case  \n",
       "156                                270573     13569             151  \n",
       "157                                338715     19517             223  \n",
       "140                                247274     19184             276  \n",
       "145                                327098     19734             214  \n",
       "46                                    703     32055            8301  "
      ]
     },
     "execution_count": 29,
     "metadata": {},
     "output_type": "execute_result"
    }
   ],
   "source": [
    "X_test.head(5)"
   ]
  },
  {
   "cell_type": "code",
   "execution_count": 30,
   "id": "6ce06c7f",
   "metadata": {},
   "outputs": [
    {
     "name": "stderr",
     "output_type": "stream",
     "text": [
      "C:\\Users\\USER\\AppData\\Local\\Programs\\Python\\Python310\\lib\\site-packages\\sklearn\\base.py:450: UserWarning: X does not have valid feature names, but RandomForestRegressor was fitted with feature names\n",
      "  warnings.warn(\n"
     ]
    },
    {
     "data": {
      "text/plain": [
       "array([5.27])"
      ]
     },
     "execution_count": 30,
     "metadata": {},
     "output_type": "execute_result"
    }
   ],
   "source": [
    "rf.predict([[156, 217057, 270573, 13569 , 151]])"
   ]
  },
  {
   "cell_type": "code",
   "execution_count": 45,
   "id": "0a0e97e2",
   "metadata": {},
   "outputs": [
    {
     "data": {
      "text/plain": [
       "<matplotlib.collections.PathCollection at 0x17fbe863490>"
      ]
     },
     "execution_count": 45,
     "metadata": {},
     "output_type": "execute_result"
    },
    {
     "data": {
      "image/png": "[encoded data removed]",
      "text/plain": [
       "<Figure size 432x288 with 1 Axes>"
      ]
     },
     "metadata": {
      "needs_background": "light"
     },
     "output_type": "display_data"
    }
   ],
   "source": [
    "plt.scatter(X_test['Day'],y_pred, color=\"g\")"
   ]
  },
  {
   "cell_type": "code",
   "execution_count": 43,
   "id": "efd34c78",
   "metadata": {},
   "outputs": [
    {
     "data": {
      "text/plain": [
       "200.83836578947378"
      ]
     },
     "execution_count": 43,
     "metadata": {},
     "output_type": "execute_result"
    }
   ],
   "source": [
    "from sklearn import metrics\n",
    "\n",
    "metrics.mean_squared_error(y_test, y_pred)"
   ]
  },
  {
   "cell_type": "code",
   "execution_count": 44,
   "id": "5e107c84",
   "metadata": {},
   "outputs": [
    {
     "data": {
      "text/plain": [
       "14.171745333214036"
      ]
     },
     "execution_count": 44,
     "metadata": {},
     "output_type": "execute_result"
    }
   ],
   "source": [
    "np.sqrt(metrics.mean_squared_error(y_test, y_pred))"
   ]
  },
  {
   "cell_type": "code",
   "execution_count": null,
   "id": "bcbc2408",
   "metadata": {},
   "outputs": [],
   "source": []
  }
 ],
 "metadata": {
  "kernelspec": {
   "display_name": "Python 3 (ipykernel)",
   "language": "python",
   "name": "python3"
  },
  "language_info": {
   "codemirror_mode": {
    "name": "ipython",
    "version": 3
   },
   "file_extension": ".py",
   "mimetype": "text/x-python",
   "name": "python",
   "nbconvert_exporter": "python",
   "pygments_lexer": "ipython3",
   "version": "3.10.2"
  }
 },
 "nbformat": 4,
 "nbformat_minor": 5
}
